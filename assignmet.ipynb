{
 "cells": [
  {
   "cell_type": "markdown",
   "metadata": {},
   "source": [
    "#                                    Part_B"
   ]
  },
  {
   "cell_type": "markdown",
   "metadata": {},
   "source": [
    "# 1.write a python program to print all prime numbers in a given interval"
   ]
  },
  {
   "cell_type": "code",
   "execution_count": 11,
   "metadata": {},
   "outputs": [
    {
     "name": "stdout",
     "output_type": "stream",
     "text": [
      "2\n",
      "3\n",
      "5\n",
      "7\n",
      "11\n",
      "13\n",
      "17\n",
      "19\n"
     ]
    }
   ],
   "source": [
    "def number(n):                          # create a function\n",
    "    for i in range(n+1):                #for loop to find number of iterations\n",
    "        if i > 1:                        #if the condition is true\n",
    "            for j in range(2,i):         #enter into loop and range with 2 steps difference \n",
    "                if(i % j)== 0:           # check the the condition if the condition is equal to zero\n",
    "                    break                # break\n",
    "            else:                        #if it is not equal to zero\n",
    "                    print(i)             #print value\n",
    "                    \n",
    "number(20)                              #calling the function\n",
    "    "
   ]
  },
  {
   "cell_type": "code",
   "execution_count": null,
   "metadata": {},
   "outputs": [],
   "source": []
  },
  {
   "cell_type": "markdown",
   "metadata": {},
   "source": [
    " # 2. Write a python program to check wheather the given string is palindrome or not"
   ]
  },
  {
   "cell_type": "code",
   "execution_count": 16,
   "metadata": {},
   "outputs": [
    {
     "name": "stdout",
     "output_type": "stream",
     "text": [
      "rasar  is a palindrome\n"
     ]
    }
   ],
   "source": [
    "def char(n):                                 #create a function\n",
    "    if(n==n[::-1]):                         #check the condition and reverse the string through[::-1]\n",
    "        print(n,\" is a palindrome\")         #if the reverse string is equal to the orginal string then print palindrome\n",
    "    else:                                   #if the reverse string is not equal to the orginal string \n",
    "        print(n,\" is not a palindrome\")     #then print it is not a palindrome\n",
    "char(\"rasar\")                               #calling the function"
   ]
  },
  {
   "cell_type": "code",
   "execution_count": null,
   "metadata": {},
   "outputs": [],
   "source": []
  },
  {
   "cell_type": "markdown",
   "metadata": {},
   "source": [
    "# 3. Write a python program which print cube sum of first n natural numbers"
   ]
  },
  {
   "cell_type": "code",
   "execution_count": 8,
   "metadata": {},
   "outputs": [],
   "source": [
    "def sumof(n):                   #create a function\n",
    "    sum1=0                      # take a empty variable\n",
    "    for i in range(1,n+1):      #use for loop to find the values\n",
    "        sum1 +=i*i*i            #incrementing the number and multiplying the number for 3 time or i**3\n",
    "        print(sum1)              #print the value\n",
    "    return sum1                 #returning the value"
   ]
  },
  {
   "cell_type": "code",
   "execution_count": 10,
   "metadata": {},
   "outputs": [
    {
     "name": "stdout",
     "output_type": "stream",
     "text": [
      "1\n",
      "9\n",
      "36\n",
      "100\n",
      "225\n",
      "441\n",
      "784\n",
      "1296\n",
      "2025\n",
      "3025\n"
     ]
    },
    {
     "data": {
      "text/plain": [
       "3025"
      ]
     },
     "execution_count": 10,
     "metadata": {},
     "output_type": "execute_result"
    }
   ],
   "source": [
    "sumof(10)                       #calling the function"
   ]
  },
  {
   "cell_type": "code",
   "execution_count": null,
   "metadata": {},
   "outputs": [],
   "source": []
  },
  {
   "cell_type": "markdown",
   "metadata": {},
   "source": [
    "# 4. Write a python program to print factorial of a given number "
   ]
  },
  {
   "cell_type": "code",
   "execution_count": 11,
   "metadata": {},
   "outputs": [],
   "source": [
    "def factorial(n):               #create a fun\n",
    "    fact=1                      #take a varible with vale 1\n",
    "    for i in range(1,n+1):      #use for loop to print the values for certain range \n",
    "        fact=fact*i             #multiply the value with variable and store in it\n",
    "        print(fact)             #print the value\n",
    "    return fact                 #returning the value to variable"
   ]
  },
  {
   "cell_type": "code",
   "execution_count": 17,
   "metadata": {},
   "outputs": [
    {
     "name": "stdout",
     "output_type": "stream",
     "text": [
      "1\n",
      "2\n",
      "6\n",
      "24\n",
      "120\n",
      "720\n"
     ]
    },
    {
     "data": {
      "text/plain": [
       "720"
      ]
     },
     "execution_count": 17,
     "metadata": {},
     "output_type": "execute_result"
    }
   ],
   "source": [
    "factorial(6)                    #calling the function"
   ]
  },
  {
   "cell_type": "code",
   "execution_count": 44,
   "metadata": {},
   "outputs": [
    {
     "data": {
      "text/plain": [
       "720"
      ]
     },
     "execution_count": 44,
     "metadata": {},
     "output_type": "execute_result"
    }
   ],
   "source": [
    "import math            #import math library for inbulid methods\n",
    "s=math.factorial(6)   #math.factorial to check the factorial of the given number\n",
    "s"
   ]
  },
  {
   "cell_type": "markdown",
   "metadata": {},
   "source": [
    "# Part_A"
   ]
  },
  {
   "cell_type": "code",
   "execution_count": null,
   "metadata": {},
   "outputs": [],
   "source": []
  },
  {
   "cell_type": "markdown",
   "metadata": {},
   "source": [
    "# 1. Write a python program to calculate sum and product of digits of a number.(create to different functions one for sum and one for product)"
   ]
  },
  {
   "cell_type": "code",
   "execution_count": 2,
   "metadata": {},
   "outputs": [
    {
     "name": "stdout",
     "output_type": "stream",
     "text": [
      "enter a number:2348976\n",
      "sum of : 39\n",
      "product of: 72576\n"
     ]
    }
   ],
   "source": [
    "def sumof(a):                              #create a function for sum\n",
    "    b=0                                     #take an empty datatype\n",
    "    for i in a:                             #create for loop to access value\n",
    "        b=b+i                               #enter into the loop and append to a empty datatype\n",
    "    return b                                #return the value\n",
    "def prod(a):                                #create a function for product\n",
    "    b=1                                     #take a varible with value 1\n",
    "    for i in a:                             #create for loop \n",
    "        b=b*i                               #append value to the varible\n",
    "    return b                                #return the value\n",
    "n=int(input(\"enter a number:\"))             #enter a number\n",
    "a=[]                                        #create an empty list\n",
    "while n!=0:                                 # while loop to check the condition \n",
    "    a.append(n%10)                          #append the last value into the list\n",
    "    n=n//10                                 #take next value\n",
    "print(\"sum of :\",sumof(a))                  #print the sum  of given number\n",
    "print(\"product of:\",prod(a))                #print the product of given number"
   ]
  },
  {
   "cell_type": "code",
   "execution_count": null,
   "metadata": {},
   "outputs": [],
   "source": []
  },
  {
   "cell_type": "markdown",
   "metadata": {},
   "source": [
    "# 2. Write a function that takes a list of strings an prints them, one per line, in a rectangular frame. For example the list [\"Hello\", \"World\", \"in\", \"a\", \"frame\"]."
   ]
  },
  {
   "cell_type": "code",
   "execution_count": 1,
   "metadata": {},
   "outputs": [
    {
     "name": "stdout",
     "output_type": "stream",
     "text": [
      "***************\n",
      "* python      *\n",
      "* in          *\n",
      "* a           *\n",
      "* datascience *\n",
      "***************\n"
     ]
    }
   ],
   "source": [
    "lis = [\"python\", \"in\", \"a\", \"datascience\"]      #create list\n",
    "longer = len(max(lis, key=len))                 #findig length of list\n",
    "line = '*' * (longer + 4)                       # assigning variable to create straight line \n",
    "print(line)                                     #print line                                   \n",
    "for word in lis:                                #for loop to read the list                        \n",
    "    print(f'* {word:{longer}} *')               #using formated string f to print in next line\n",
    "print(line)                                     #print the pattern"
   ]
  },
  {
   "cell_type": "code",
   "execution_count": null,
   "metadata": {},
   "outputs": [],
   "source": []
  }
 ],
 "metadata": {
  "kernelspec": {
   "display_name": "Python 3",
   "language": "python",
   "name": "python3"
  },
  "language_info": {
   "codemirror_mode": {
    "name": "ipython",
    "version": 3
   },
   "file_extension": ".py",
   "mimetype": "text/x-python",
   "name": "python",
   "nbconvert_exporter": "python",
   "pygments_lexer": "ipython3",
   "version": "3.7.6"
  }
 },
 "nbformat": 4,
 "nbformat_minor": 4
}
